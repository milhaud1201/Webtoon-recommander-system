{
 "cells": [
  {
   "cell_type": "markdown",
   "id": "37cb3b50",
   "metadata": {},
   "source": [
    "## 카카오와 네이버 통일된 최종 csv 만들기"
   ]
  },
  {
   "cell_type": "markdown",
   "id": "be26b549",
   "metadata": {},
   "source": [
    "### 데이터 불러오기"
   ]
  },
  {
   "cell_type": "code",
   "execution_count": 35,
   "id": "83fd1e90",
   "metadata": {},
   "outputs": [],
   "source": [
    "import pandas as pd\n",
    "import numpy as np\n",
    "import re"
   ]
  },
  {
   "cell_type": "code",
   "execution_count": 36,
   "id": "2b2ba11c",
   "metadata": {},
   "outputs": [],
   "source": [
    "df_naver = pd.read_csv('data/naver_webtoon_final.csv')\n",
    "df_kakao_score = pd.read_csv('data/kakao_webtoon_scoring.csv')\n",
    "df_kakao = pd.read_csv('data/kakao_webtoon.csv')"
   ]
  },
  {
   "cell_type": "markdown",
   "id": "2dd7b862",
   "metadata": {},
   "source": [
    "### 데이터 전처리 하기"
   ]
  },
  {
   "cell_type": "markdown",
   "id": "ae1f85d2",
   "metadata": {},
   "source": [
    "**카카오와 네이버 칼럼 규칙**  \n",
    "\n",
    "제목 -> title  \n",
    "작가(작가와 그림작가 합치기) -> artist  \n",
    "장르 -> genre  \n",
    "평점 -> score  \n",
    "줄거리 -> story  \n",
    "대표이미지 -> image  \n",
    "회차별 썸네일 -> thumbs  \n",
    "어느 플랫폼인지 -> from"
   ]
  },
  {
   "cell_type": "markdown",
   "id": "9aa3b306",
   "metadata": {},
   "source": [
    "**네이버 전처리**"
   ]
  },
  {
   "cell_type": "code",
   "execution_count": 37,
   "id": "a0ca90da",
   "metadata": {},
   "outputs": [],
   "source": [
    "# 필요 없는 칼럼 드랍하기\n",
    "\n",
    "df_naver.drop('Link', axis=1, inplace=True)"
   ]
  },
  {
   "cell_type": "code",
   "execution_count": 38,
   "id": "65314473",
   "metadata": {},
   "outputs": [],
   "source": [
    "# 칼럼 통일을 네이버 칼럼 이름 변경하기\n",
    "\n",
    "df_naver.rename(columns = {'Title': 'title', 'Artist': 'artist', 'Genre': 'genre', 'Score(recent 10)': 'score', 'Story':'story', 'Image': 'image', \"Thumbs\": 'thumbs'}, inplace=True)"
   ]
  },
  {
   "cell_type": "markdown",
   "id": "6b1a38be",
   "metadata": {},
   "source": [
    "**카카오 전처리**"
   ]
  },
  {
   "cell_type": "code",
   "execution_count": 39,
   "id": "2ed9a710",
   "metadata": {},
   "outputs": [],
   "source": [
    "# 필요 없는 칼럼 드랍하기\n",
    "\n",
    "df_kakao.drop([\"id\",\"original_story\",\"keywords_1\", \"keywords_2\", \"keywords_3\", \"keywords_4\",\"adult\", \"like\", \"view\", \"status\"],\n",
    "              axis=1, inplace=True)"
   ]
  },
  {
   "cell_type": "code",
   "execution_count": 40,
   "id": "fca52a20",
   "metadata": {},
   "outputs": [],
   "source": [
    "# 필요 없는 칼럼 드랍하기\n",
    "\n",
    "df_kakao_score.drop(['view_diff', 'like_diff', 'id'], axis=1, inplace=True)"
   ]
  },
  {
   "cell_type": "code",
   "execution_count": 41,
   "id": "f76323d0",
   "metadata": {},
   "outputs": [],
   "source": [
    "df_kakao = pd.merge(df_kakao,df_kakao_score, on='title', how='outer')"
   ]
  },
  {
   "cell_type": "code",
   "execution_count": 42,
   "id": "67f4f129",
   "metadata": {},
   "outputs": [],
   "source": [
    "# 네이버의 작가 형식과 통일되도록 카카오의 작가 이름 파생변수를 만들기\n",
    "\n",
    "artist=[]\n",
    "for i in range(len(df_kakao)):\n",
    "    if df_kakao['writer'][i] == df_kakao['illustrator'][i]:\n",
    "        artist.append(df_kakao['writer'][i])\n",
    "    else:\n",
    "        artist.append(df_kakao['writer'][i] + \"/\" + df_kakao['illustrator'][i])\n",
    "\n",
    "df_kakao['artist'] = artist\n",
    "df_kakao.drop(['writer','illustrator'], axis=1, inplace=True)"
   ]
  },
  {
   "cell_type": "code",
   "execution_count": 43,
   "id": "ad84037f",
   "metadata": {},
   "outputs": [],
   "source": [
    "# 칼럼 통일을 카카오 칼럼 이름 변경하기\n",
    "\n",
    "df_kakao.rename(columns = {'synopsis': 'story', 'timg': 'thumbs', 'thumbnail': 'image'}, inplace=True)"
   ]
  },
  {
   "cell_type": "markdown",
   "id": "7d4d9cc9",
   "metadata": {},
   "source": [
    "**함수 만들기**"
   ]
  },
  {
   "cell_type": "code",
   "execution_count": 44,
   "id": "e3ade13b",
   "metadata": {},
   "outputs": [],
   "source": [
    "# 각 데이터별 변수 순서 통일하기\n",
    "\n",
    "df_naver = df_naver.reindex(columns=['title', 'artist', 'genre', 'score', 'story', 'image', 'thumbs'])\n",
    "df_kakao = df_kakao.reindex(columns=['title', 'artist', 'genre', 'score', 'story', 'image', 'thumbs'])"
   ]
  },
  {
   "cell_type": "code",
   "execution_count": 45,
   "id": "df655879",
   "metadata": {},
   "outputs": [],
   "source": [
    "# 네이버와 카카오에 각각 파생 변수 생성하기\n",
    "\n",
    "df_naver[\"from\"]=\"naver\"\n",
    "df_kakao[\"from\"]=\"kakao\""
   ]
  },
  {
   "cell_type": "code",
   "execution_count": 46,
   "id": "db03d8a2",
   "metadata": {},
   "outputs": [],
   "source": [
    "# 네이버 장르를 통일된 장르로 변환하는 함수 만들기\n",
    "\n",
    "def naver_genre_change(df):\n",
    "    # 개그 -> 코믹, 스포츠 -> 학원, 무협/사극 -> 무협, 감성 -> 드라마 로 변경\n",
    "    df.genre = df.genre.str.replace('개그', '코믹')\n",
    "    df.genre = df.genre.str.replace('스포츠', '학원')\n",
    "    df.genre = df.genre.str.replace('무협/사극', '무협')\n",
    "    df.genre = df.genre.str.replace('감성', '드라마')\n",
    "    df.genre\n",
    "    # 장르들을 list에 넣어줌\n",
    "    df.genre = df.genre.str.split(', ')\n",
    "    # 스토리, 옴니버스, 에피소드 장르 삭제\n",
    "    rm_set = ['스토리', '옴니버스', '에피소드']\n",
    "    new_list = []\n",
    "    for i in df.genre:\n",
    "        new_list.append([a for a in i if a not in rm_set])\n",
    "    df.genre = new_list\n",
    "    return df"
   ]
  },
  {
   "cell_type": "code",
   "execution_count": 47,
   "id": "b1ab860a",
   "metadata": {},
   "outputs": [],
   "source": [
    "# 카카오 장르를 통일된 장르로 변환하는 함수 만들기\n",
    "\n",
    "def kakao_genre_change(df):\n",
    "    # 장르 양 옆에 있는 [' '] 삭제\n",
    "    df.genre = df.genre.str.strip('['']''\\'')\n",
    "    # '공포/스릴러'를 '스릴러'로 변경\n",
    "    df['genre'][df.genre == '공포/스릴러'] = '스릴러'\n",
    "    # 장르 여러개인 경우를 각각의 장르로 분류하기 위해 장르를 list로 변환해서 넣어줌\n",
    "    df.genre = df.genre.str.replace('/', ' ').str.split()\n",
    "    return df"
   ]
  },
  {
   "cell_type": "code",
   "execution_count": 48,
   "id": "a8b830d9",
   "metadata": {},
   "outputs": [],
   "source": [
    "# 네이버와 카카오의 각 회차별 데이터에서 원하는 뽑아올 수 있는 원하는 csv 형태로 만들기\n",
    "\n",
    "def make_thumbs_csv(df_naver, df_kakao):\n",
    "    df_naver.drop_duplicates('title', inplace=True)\n",
    "    df_kakao.drop_duplicates('title', inplace=True)\n",
    "    \n",
    "    df_kakao[\"thumbs\"] = df_kakao[\"thumbs\"].map(lambda x: re.sub('\\[|\\]|\\'','',x))\n",
    "    df_kakao[\"image\"] = df_kakao[\"image\"].map(lambda x: re.sub('\\[|\\]|\\'','',x))\n",
    "    \n",
    "    df_kakao = df_kakao.drop(columns = ['image'])\n",
    "    split = df_kakao.thumbs.str.split(',')\n",
    "    split = split.apply(lambda x: pd.Series(x))\n",
    "    split = split.stack().reset_index(level = 1, drop = True).to_frame(\"thumbs\")\n",
    "    df_kakao = df_kakao.merge(split, left_index=True, right_index=True, how =\"left\")\n",
    "    \n",
    "    df_naver = df_naver.drop(columns = ['image'])\n",
    "    split = df_naver.thumbs.str.split('π')\n",
    "    split = split.apply(lambda x: pd.Series(x))\n",
    "    split = split.stack().reset_index(level = 1, drop = True).to_frame(\"thumbs\")\n",
    "    df_naver = df_naver.merge(split, left_index=True, right_index=True, how =\"left\")\n",
    "    \n",
    "    df_naver.drop(['thumbs_x'], axis=1, inplace=True)\n",
    "    df_kakao.drop(['thumbs_x'], axis=1, inplace=True)\n",
    "    \n",
    "    df_naver.rename(columns={'thumbs_y': 'thumbs'}, inplace=True)\n",
    "    df_kakao.rename(columns={'thumbs_y': 'thumbs'}, inplace=True)\n",
    "    \n",
    "    df_naver = df_naver.reindex(columns=['title', 'artist', 'genre', 'score', 'story', 'thumbs', 'from'])\n",
    "    df_kakao = df_kakao.reindex(columns=['title', 'artist', 'genre', 'score', 'story', 'thumbs', 'from'])\n",
    "    \n",
    "    df_for_thumbs = pd.concat([df_kakao[['title', 'thumbs', 'from']], df_naver[['title', 'thumbs', 'from']]])\n",
    "    \n",
    "    df_for_thumbs.to_csv(\"webtoon_thumbs.csv\", index=False)"
   ]
  },
  {
   "cell_type": "code",
   "execution_count": 49,
   "id": "235ebb05",
   "metadata": {
    "collapsed": true
   },
   "outputs": [
    {
     "name": "stderr",
     "output_type": "stream",
     "text": [
      "C:\\Users\\Chalie\\AppData\\Local\\Temp\\ipykernel_3572\\1415369708.py:7: SettingWithCopyWarning: \n",
      "A value is trying to be set on a copy of a slice from a DataFrame\n",
      "\n",
      "See the caveats in the documentation: https://pandas.pydata.org/pandas-docs/stable/user_guide/indexing.html#returning-a-view-versus-a-copy\n",
      "  df['genre'][df.genre == '공포/스릴러'] = '스릴러'\n"
     ]
    },
    {
     "data": {
      "text/html": [
       "<div>\n",
       "<style scoped>\n",
       "    .dataframe tbody tr th:only-of-type {\n",
       "        vertical-align: middle;\n",
       "    }\n",
       "\n",
       "    .dataframe tbody tr th {\n",
       "        vertical-align: top;\n",
       "    }\n",
       "\n",
       "    .dataframe thead th {\n",
       "        text-align: right;\n",
       "    }\n",
       "</style>\n",
       "<table border=\"1\" class=\"dataframe\">\n",
       "  <thead>\n",
       "    <tr style=\"text-align: right;\">\n",
       "      <th></th>\n",
       "      <th>title</th>\n",
       "      <th>artist</th>\n",
       "      <th>genre</th>\n",
       "      <th>score</th>\n",
       "      <th>story</th>\n",
       "      <th>image</th>\n",
       "      <th>thumbs</th>\n",
       "      <th>from</th>\n",
       "    </tr>\n",
       "  </thead>\n",
       "  <tbody>\n",
       "    <tr>\n",
       "      <th>0</th>\n",
       "      <td>미생</td>\n",
       "      <td>윤태호</td>\n",
       "      <td>[드라마]</td>\n",
       "      <td>9.976667</td>\n",
       "      <td>자신의 삶을 승리하기 위해 한 수 한 수 돌을 잇는 사람들의 이야기</td>\n",
       "      <td>https://kr-a.kakaopagecdn.com/P/C/818/sharing/...</td>\n",
       "      <td>https://kr-a.kakaopagecdn.com/P/EO/818/173349/...</td>\n",
       "      <td>kakao</td>\n",
       "    </tr>\n",
       "    <tr>\n",
       "      <th>1</th>\n",
       "      <td>바니와 오빠들</td>\n",
       "      <td>니은</td>\n",
       "      <td>[로맨스]</td>\n",
       "      <td>9.983333</td>\n",
       "      <td>외모 따지지 않는 '개념녀'? 아니, 나 완전 '얼빠'야!  신입생 시절, 남자의 ...</td>\n",
       "      <td>https://kr-a.kakaopagecdn.com/P/C/1781/sharing...</td>\n",
       "      <td>https://kr-a.kakaopagecdn.com/P/EO/1781/173355...</td>\n",
       "      <td>kakao</td>\n",
       "    </tr>\n",
       "    <tr>\n",
       "      <th>2</th>\n",
       "      <td>무지개다리 파수꾼</td>\n",
       "      <td>이서</td>\n",
       "      <td>[판타지, 드라마]</td>\n",
       "      <td>9.976667</td>\n",
       "      <td>돈과 성공만을 전부로 알던 유명 수의사 이한철.  그는 어느 날 사고 이후, 동물들...</td>\n",
       "      <td>https://kr-a.kakaopagecdn.com/P/C/2043/sharing...</td>\n",
       "      <td>https://kr-a.kakaopagecdn.com/P/EO/2043/173368...</td>\n",
       "      <td>kakao</td>\n",
       "    </tr>\n",
       "    <tr>\n",
       "      <th>3</th>\n",
       "      <td>뱀파이어님의 대리식사</td>\n",
       "      <td>멜리/웬즈데이</td>\n",
       "      <td>[로맨스]</td>\n",
       "      <td>9.973333</td>\n",
       "      <td>\"대신 먹어주기만 하면 되는 '입주 대리식사' 알바?!\"  가난한 대학생 강시영은 ...</td>\n",
       "      <td>https://kr-a.kakaopagecdn.com/P/C/1959/sharing...</td>\n",
       "      <td>https://kr-a.kakaopagecdn.com/P/EO/1959/173361...</td>\n",
       "      <td>kakao</td>\n",
       "    </tr>\n",
       "    <tr>\n",
       "      <th>4</th>\n",
       "      <td>대사형 선유</td>\n",
       "      <td>노경찬/박창환</td>\n",
       "      <td>[액션, 무협]</td>\n",
       "      <td>9.976667</td>\n",
       "      <td>삼류 낭인 곽노의 손에 거둬진 아이들.  사제관계를 맺고 아이들은 어설프게나마 무공...</td>\n",
       "      <td>https://kr-a.kakaopagecdn.com/P/C/2589/sharing...</td>\n",
       "      <td>https://kr-a.kakaopagecdn.com/P/EO/2589/173353...</td>\n",
       "      <td>kakao</td>\n",
       "    </tr>\n",
       "    <tr>\n",
       "      <th>...</th>\n",
       "      <td>...</td>\n",
       "      <td>...</td>\n",
       "      <td>...</td>\n",
       "      <td>...</td>\n",
       "      <td>...</td>\n",
       "      <td>...</td>\n",
       "      <td>...</td>\n",
       "      <td>...</td>\n",
       "    </tr>\n",
       "    <tr>\n",
       "      <th>1421</th>\n",
       "      <td>진심이 닿다</td>\n",
       "      <td>앤트스튜디오</td>\n",
       "      <td>[로맨스]</td>\n",
       "      <td>9.776667</td>\n",
       "      <td>자타공인 대한민국 최고 톱스타, 오윤서(본명 : 오진심!)   한창 잘나가던 그때,...</td>\n",
       "      <td>https://kr-a.kakaopagecdn.com/P/C/2082/sharing...</td>\n",
       "      <td>https://kr-a.kakaopagecdn.com/P/EO/2082/101860...</td>\n",
       "      <td>kakao</td>\n",
       "    </tr>\n",
       "    <tr>\n",
       "      <th>1422</th>\n",
       "      <td>드림사이드</td>\n",
       "      <td>홍정훈/신월</td>\n",
       "      <td>[스릴러]</td>\n",
       "      <td>9.836667</td>\n",
       "      <td>시골의사의 아들 남하진, 어느날 좀비가 들끓는 악몽을 꾸고 난 후, 꿈에서 만난 소...</td>\n",
       "      <td>https://kr-a.kakaopagecdn.com/P/C/1396/sharing...</td>\n",
       "      <td>https://kr-a.kakaopagecdn.com/P/EO/1396/93539/...</td>\n",
       "      <td>kakao</td>\n",
       "    </tr>\n",
       "    <tr>\n",
       "      <th>1423</th>\n",
       "      <td>김 비서가 왜 그럴까</td>\n",
       "      <td>김명미</td>\n",
       "      <td>[로맨스]</td>\n",
       "      <td>9.933333</td>\n",
       "      <td>천상천하유아독존, 신이 빚어낸 마스터피스, 이 세상 내 맘대로 안 되는 건 없는 유...</td>\n",
       "      <td>https://kr-a.kakaopagecdn.com/P/C/2307/sharing...</td>\n",
       "      <td>https://kr-a.kakaopagecdn.com/P/EO/2307/122198...</td>\n",
       "      <td>kakao</td>\n",
       "    </tr>\n",
       "    <tr>\n",
       "      <th>1424</th>\n",
       "      <td>더스크 하울러</td>\n",
       "      <td>크루/태선</td>\n",
       "      <td>[학원, 판타지]</td>\n",
       "      <td>9.933333</td>\n",
       "      <td>소심한 성격을 극복하기 위해 밸런스 막장으로 소문난 게임 '트리키아'에 뛰어들었다!...</td>\n",
       "      <td>https://kr-a.kakaopagecdn.com/P/C/1399/sharing...</td>\n",
       "      <td>https://kr-a.kakaopagecdn.com/P/EO/1399/46249/...</td>\n",
       "      <td>kakao</td>\n",
       "    </tr>\n",
       "    <tr>\n",
       "      <th>1425</th>\n",
       "      <td>애완견의 법칙</td>\n",
       "      <td>도담/이현성</td>\n",
       "      <td>[로맨스]</td>\n",
       "      <td>9.956667</td>\n",
       "      <td>성운 출판사에는 미친개가 있다. 변화 없는 표정, 높낮이 없는 음성, 차갑고 어두운...</td>\n",
       "      <td>https://kr-a.kakaopagecdn.com/P/C/1388/sharing...</td>\n",
       "      <td>https://kr-a.kakaopagecdn.com/P/EO/1388/44919/...</td>\n",
       "      <td>kakao</td>\n",
       "    </tr>\n",
       "  </tbody>\n",
       "</table>\n",
       "<p>1409 rows × 8 columns</p>\n",
       "</div>"
      ],
      "text/plain": [
       "            title   artist       genre     score  \\\n",
       "0              미생      윤태호       [드라마]  9.976667   \n",
       "1         바니와 오빠들       니은       [로맨스]  9.983333   \n",
       "2       무지개다리 파수꾼       이서  [판타지, 드라마]  9.976667   \n",
       "3     뱀파이어님의 대리식사  멜리/웬즈데이       [로맨스]  9.973333   \n",
       "4          대사형 선유  노경찬/박창환    [액션, 무협]  9.976667   \n",
       "...           ...      ...         ...       ...   \n",
       "1421       진심이 닿다   앤트스튜디오       [로맨스]  9.776667   \n",
       "1422        드림사이드   홍정훈/신월       [스릴러]  9.836667   \n",
       "1423  김 비서가 왜 그럴까      김명미       [로맨스]  9.933333   \n",
       "1424      더스크 하울러    크루/태선   [학원, 판타지]  9.933333   \n",
       "1425      애완견의 법칙   도담/이현성       [로맨스]  9.956667   \n",
       "\n",
       "                                                  story  \\\n",
       "0                 자신의 삶을 승리하기 위해 한 수 한 수 돌을 잇는 사람들의 이야기   \n",
       "1     외모 따지지 않는 '개념녀'? 아니, 나 완전 '얼빠'야!  신입생 시절, 남자의 ...   \n",
       "2     돈과 성공만을 전부로 알던 유명 수의사 이한철.  그는 어느 날 사고 이후, 동물들...   \n",
       "3     \"대신 먹어주기만 하면 되는 '입주 대리식사' 알바?!\"  가난한 대학생 강시영은 ...   \n",
       "4     삼류 낭인 곽노의 손에 거둬진 아이들.  사제관계를 맺고 아이들은 어설프게나마 무공...   \n",
       "...                                                 ...   \n",
       "1421  자타공인 대한민국 최고 톱스타, 오윤서(본명 : 오진심!)   한창 잘나가던 그때,...   \n",
       "1422  시골의사의 아들 남하진, 어느날 좀비가 들끓는 악몽을 꾸고 난 후, 꿈에서 만난 소...   \n",
       "1423  천상천하유아독존, 신이 빚어낸 마스터피스, 이 세상 내 맘대로 안 되는 건 없는 유...   \n",
       "1424  소심한 성격을 극복하기 위해 밸런스 막장으로 소문난 게임 '트리키아'에 뛰어들었다!...   \n",
       "1425  성운 출판사에는 미친개가 있다. 변화 없는 표정, 높낮이 없는 음성, 차갑고 어두운...   \n",
       "\n",
       "                                                  image  \\\n",
       "0     https://kr-a.kakaopagecdn.com/P/C/818/sharing/...   \n",
       "1     https://kr-a.kakaopagecdn.com/P/C/1781/sharing...   \n",
       "2     https://kr-a.kakaopagecdn.com/P/C/2043/sharing...   \n",
       "3     https://kr-a.kakaopagecdn.com/P/C/1959/sharing...   \n",
       "4     https://kr-a.kakaopagecdn.com/P/C/2589/sharing...   \n",
       "...                                                 ...   \n",
       "1421  https://kr-a.kakaopagecdn.com/P/C/2082/sharing...   \n",
       "1422  https://kr-a.kakaopagecdn.com/P/C/1396/sharing...   \n",
       "1423  https://kr-a.kakaopagecdn.com/P/C/2307/sharing...   \n",
       "1424  https://kr-a.kakaopagecdn.com/P/C/1399/sharing...   \n",
       "1425  https://kr-a.kakaopagecdn.com/P/C/1388/sharing...   \n",
       "\n",
       "                                                 thumbs   from  \n",
       "0     https://kr-a.kakaopagecdn.com/P/EO/818/173349/...  kakao  \n",
       "1     https://kr-a.kakaopagecdn.com/P/EO/1781/173355...  kakao  \n",
       "2     https://kr-a.kakaopagecdn.com/P/EO/2043/173368...  kakao  \n",
       "3     https://kr-a.kakaopagecdn.com/P/EO/1959/173361...  kakao  \n",
       "4     https://kr-a.kakaopagecdn.com/P/EO/2589/173353...  kakao  \n",
       "...                                                 ...    ...  \n",
       "1421  https://kr-a.kakaopagecdn.com/P/EO/2082/101860...  kakao  \n",
       "1422  https://kr-a.kakaopagecdn.com/P/EO/1396/93539/...  kakao  \n",
       "1423  https://kr-a.kakaopagecdn.com/P/EO/2307/122198...  kakao  \n",
       "1424  https://kr-a.kakaopagecdn.com/P/EO/1399/46249/...  kakao  \n",
       "1425  https://kr-a.kakaopagecdn.com/P/EO/1388/44919/...  kakao  \n",
       "\n",
       "[1409 rows x 8 columns]"
      ]
     },
     "execution_count": 49,
     "metadata": {},
     "output_type": "execute_result"
    }
   ],
   "source": [
    "make_thumbs_csv(df_naver, df_kakao)\n",
    "naver_genre_change(df_naver)\n",
    "kakao_genre_change(df_kakao)"
   ]
  },
  {
   "cell_type": "code",
   "execution_count": 50,
   "id": "a933dc67",
   "metadata": {},
   "outputs": [],
   "source": [
    "# 최종적으로 사용할 csv로 만들기\n",
    "\n",
    "df_total = pd.concat([df_naver,df_kakao])\n",
    "df_total.reset_index(drop=True, inplace=True)\n",
    "df_total.drop('thumbs', axis=1, inplace=True)\n",
    "df_total.drop_duplicates('title', inplace=True)\n",
    "df_total.to_csv(\"webtoon_total_final.csv\", index=False)"
   ]
  }
 ],
 "metadata": {
  "kernelspec": {
   "display_name": "Python 3 (ipykernel)",
   "language": "python",
   "name": "python3"
  },
  "language_info": {
   "codemirror_mode": {
    "name": "ipython",
    "version": 3
   },
   "file_extension": ".py",
   "mimetype": "text/x-python",
   "name": "python",
   "nbconvert_exporter": "python",
   "pygments_lexer": "ipython3",
   "version": "3.9.7"
  },
  "toc": {
   "base_numbering": 1,
   "nav_menu": {},
   "number_sections": true,
   "sideBar": true,
   "skip_h1_title": false,
   "title_cell": "Table of Contents",
   "title_sidebar": "Contents",
   "toc_cell": false,
   "toc_position": {},
   "toc_section_display": true,
   "toc_window_display": false
  }
 },
 "nbformat": 4,
 "nbformat_minor": 5
}
