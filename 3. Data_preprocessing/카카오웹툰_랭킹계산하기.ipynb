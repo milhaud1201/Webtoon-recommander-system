{
 "cells": [
  {
   "cell_type": "code",
   "execution_count": null,
   "metadata": {},
   "outputs": [],
   "source": [
    "import os\n",
    "\n",
    "import requests\n",
    "from requests import Response\n",
    "\n",
    "import pandas as pd\n",
    "\n",
    "from time import sleep\n",
    "from bs4 import BeautifulSoup"
   ]
  },
  {
   "cell_type": "markdown",
   "metadata": {},
   "source": [
    "## 카카오톡 크롤링 함수 불러오기"
   ]
  },
  {
   "cell_type": "code",
   "execution_count": null,
   "metadata": {},
   "outputs": [],
   "source": [
    "def get_genre_url(code):\n",
    "    genre_url = f\"https://gateway-kw.kakao.com/decorator/v1/decorator/contents/{code}\"\n",
    "    # headers = {\n",
    "    # 'accept-encoding': 'gzip, deflate, br',\n",
    "    # 'accept-language': 'ko',\n",
    "    # 'cookie': 'webid=7f21641f2bbd4c8f9af86d6a211be9d3; webid_ts=1653369352348; _kadu=siXZVdFTz5t_Qn9k_1657018568227; TIARA=E5LCJI_ZlE4MWqrCUUL8TobbA7yC.GcgRfwqr.8cXrnr8ayRx2IosGXe-cnpqd2c-KNtewZjukzYpK7qiyzafPuiGwrKxMOUYUxddSNEePo0; theme=dark; _kp_collector=KP.3859991296.1659595466116; _gcl_au=1.1.1256564681.1659595467; _fbp=fb.1.1659595467566.1992267394; _kptid=2606ff7d55eb4817b9f95bcae29fd01a; _gid=GA1.2.917645428.1659970395; _kawlt=p6AvPcB7VhEsx1uxoYSADKuWTbew1YZlkN2unHQOEy4FtqIFSZydN4IxZuUoggK3PjcN_R_5UFVSbU7dZGoS78YIDvLBvg7GIpoixDUJN95j_Wx3yZHpFZSIwCnwlkae; _kawltea=1660081117; _karmt=Hb7pXFTE3YJdAUu4iaHEHPvRrAwksBtbIanRjNiN0Ei749Lp55dsibfxpa0KS_od; _karmtea=1660091917; _kahai=ab97e19c37fa5fb1fae98fde30b632fb1d64e234f891aa4e8908a4655b95a265; _ga=GA1.2.529977311.1657242742; _ga_80D69HE0QD=GS1.1.1660101064.11.1.1660101254.0; _T_ANO=PuUBE4/x9cSNG6hqzYsH9GvBXc7Kfnh1X9Vb3KFFA7VdTpCU3P4qKQ/xtv/nHZpmQe1/SpOkioMZ8mT6NdhEYLjLsk0tqJw+dzkzRA4vC85qWEWMIfpSUBk+ulz+TTINl4fSPnGPCxnsGjOKiwVj5Rb8/d9A1HKMnkmWMVsa2uJpKHltLClx8KIZwZPRzzO6D7uW09feGswdWHVyf1G8CISZf5uLZDBJP7gJ86aPK25o1/gQJlgbo+Ch/Zyre2vRwdlazp7+fH6rUWjNnZnSf00WLpsArSnabmP2xMVhq3bHCqPhyKi3VvA5eatIYF/sK7PZYVocRQlr/4+U3KGNcA==',\n",
    "    # 'user-agent': 'Mozilla/5.0 (Windows NT 10.0; Win64; x64) AppleWebKit/537.36 (KHTML, like Gecko) Chrome/104.0.0.0 Safari/537.36'\n",
    "    # }\n",
    "    g_response = requests.get(genre_url)\n",
    "    g_data = g_response.json()\n",
    "    return g_data"
   ]
  },
  {
   "cell_type": "code",
   "execution_count": null,
   "metadata": {},
   "outputs": [],
   "source": [
    "def crawling(code):\n",
    "    \"\"\"\n",
    "    returns view, like, title when input webtoon id\n",
    "    \"\"\"\n",
    "    g_data = get_genre_url(code)  \n",
    "    view = int(g_data[\"data\"][\"statistics\"][\"viewCount\"])\n",
    "    like = int(g_data[\"data\"][\"statistics\"][\"likeCount\"])\n",
    "    title = g_data[\"data\"][\"title\"]\n",
    "    \n",
    "    return view, like, title"
   ]
  },
  {
   "cell_type": "code",
   "execution_count": null,
   "metadata": {},
   "outputs": [],
   "source": [
    "PATH = './input/'\n",
    "df_kakao_webtoon = pd.read_csv(PATH + 'kakao_webtoon.csv')"
   ]
  },
  {
   "cell_type": "code",
   "execution_count": null,
   "metadata": {},
   "outputs": [],
   "source": [
    "view_df = []\n",
    "like_df = []\n",
    "title_df = []\n",
    "\n",
    "for id in df_kakao_webtoon.id:\n",
    "    view, like, title = crawling(id)\n",
    "    view_df.append(view)\n",
    "    like_df.append(like)\n",
    "    title_df.append(title)"
   ]
  },
  {
   "cell_type": "code",
   "execution_count": null,
   "metadata": {},
   "outputs": [],
   "source": [
    "df_kakao_webtoon2 = pd.DataFrame({\"Title\": title_df, \"Like\" : like_df, \"View\": view_df})"
   ]
  },
  {
   "cell_type": "code",
   "execution_count": null,
   "metadata": {},
   "outputs": [],
   "source": [
    "import time\n",
    "t = time.localtime()\n",
    "\n",
    "df_kakao_webtoon2.to_csv(\"kakao_webtoon_{0:02d}{1:02d}.csv\".format(t.tm_mon, t.tm_mday), index=False)"
   ]
  },
  {
   "cell_type": "markdown",
   "metadata": {},
   "source": [
    "## 필요한 데이터 불러오기 및 전처리"
   ]
  },
  {
   "cell_type": "code",
   "execution_count": null,
   "metadata": {},
   "outputs": [],
   "source": [
    "# 앞으로 필요한 제목, 좋아요, 조회수만 가져오기\n",
    "df_kakao_webtoon = df_kakao_webtoon[['title','like','view']]"
   ]
  },
  {
   "cell_type": "code",
   "execution_count": null,
   "metadata": {},
   "outputs": [],
   "source": [
    "df_kakao_webtoon['like'] = df_kakao_webtoon['like'].str.strip('['']').astype(int)\n",
    "df_kakao_webtoon['view'] = df_kakao_webtoon['view'].str.strip('['']').astype(int)"
   ]
  },
  {
   "cell_type": "code",
   "execution_count": null,
   "metadata": {},
   "outputs": [],
   "source": [
    "df_kakao_webtoon.rename(columns ={'like' : 'view', 'view' : \"like\"}, inplace=True)"
   ]
  },
  {
   "cell_type": "code",
   "execution_count": null,
   "metadata": {},
   "outputs": [],
   "source": [
    "df_view_diff = df_kakao_webtoon2['View'] - df_kakao_webtoon['view']\n",
    "df_view_diff.describe()"
   ]
  },
  {
   "cell_type": "code",
   "execution_count": null,
   "metadata": {},
   "outputs": [],
   "source": [
    "df_like_diff = df_kakao_webtoon2['Like'] - df_kakao_webtoon['like']\n",
    "df_like_diff.describe()"
   ]
  },
  {
   "cell_type": "code",
   "execution_count": null,
   "metadata": {},
   "outputs": [],
   "source": [
    "df_diff = pd.DataFrame({\"title\": df_kakao_webtoon['title'], \"view_diff\": df_view_diff, \"like_diff\":df_like_diff})\n",
    "df_diff\n",
    "del df_like_diff, df_view_diff"
   ]
  },
  {
   "cell_type": "code",
   "execution_count": null,
   "metadata": {},
   "outputs": [],
   "source": [
    "# 네이버 평점 데이터 불러오기\n",
    "df_naver = pd.read_csv(PATH + \"naver_webtoon_final.csv\")"
   ]
  },
  {
   "cell_type": "code",
   "execution_count": null,
   "metadata": {},
   "outputs": [],
   "source": [
    "df_naver[\"Score(recent 10)\"].hist(figsize=(12,4), bins=30)"
   ]
  },
  {
   "cell_type": "markdown",
   "metadata": {},
   "source": [
    "## 카카오 정보를 이용하여 네이버 평점과 비슷한 점수 계산하는 함수 짜기"
   ]
  },
  {
   "cell_type": "code",
   "execution_count": null,
   "metadata": {},
   "outputs": [],
   "source": [
    "# 네이버 평점별로 전체의 몇퍼센트를 차지하는지 확인\n",
    "df_percent = df_naver.groupby(\"Score(recent 10)\").count()[['Title']].div(df_naver.shape[0]).sort_values(ascending=False, by=\"Score(recent 10)\")\n",
    "df_percent"
   ]
  },
  {
   "cell_type": "code",
   "execution_count": null,
   "metadata": {},
   "outputs": [],
   "source": [
    "# 중복 웹툰 제거 후 단기 조휘수 순으로 정렬\n",
    "df_diff.drop_duplicates(subset=['title'],inplace=True)\n",
    "df_diff = df_diff.sort_values(\"view_diff\",ascending=False)\n",
    "df_diff"
   ]
  },
  {
   "cell_type": "code",
   "execution_count": null,
   "metadata": {},
   "outputs": [],
   "source": [
    "# 카카오 웹툰의 평점이 네이버 웹툰의 평점과 같은 분포를 가지게 점수를 부여한다\n",
    "per_sum = 0\n",
    "per_list = []\n",
    "for per in df_percent.values:\n",
    "    per_sum += per\n",
    "    num = round(int(df_diff.shape[0]*per_sum))\n",
    "    per_list.append(num)\n",
    "\n",
    "per_list2 = []\n",
    "for i in range(len(per_list)):\n",
    "    \n",
    "    if i == 0:\n",
    "        per_list2.append(per_list[i])\n",
    "    else:\n",
    "        per_list2.append(per_list[i]-per_list[i-1])"
   ]
  },
  {
   "cell_type": "code",
   "execution_count": null,
   "metadata": {},
   "outputs": [],
   "source": [
    "kakao_score = []\n",
    "\n",
    "for i in range(len(per_list)):\n",
    "    for j in range(per_list2[i]):\n",
    "        kakao_score.append(df_percent.index[i])\n",
    "kakao_score.append(df_percent.index[-1])\n"
   ]
  },
  {
   "cell_type": "code",
   "execution_count": null,
   "metadata": {},
   "outputs": [],
   "source": [
    "df_diff['score']=kakao_score\n",
    "df_diff"
   ]
  },
  {
   "cell_type": "markdown",
   "metadata": {},
   "source": [
    "## 만들어진 카카오 데이터 프레임에 평점 합치기"
   ]
  },
  {
   "cell_type": "code",
   "execution_count": null,
   "metadata": {},
   "outputs": [],
   "source": [
    "df_diff['id'] = 0\n",
    "for ind in df_diff.index:\n",
    "    df_diff['id'][ind] = df_kakao_webtoon.id.loc[ind]\n",
    "\n",
    "df_diff"
   ]
  },
  {
   "cell_type": "code",
   "execution_count": null,
   "metadata": {},
   "outputs": [],
   "source": [
    "df_diff.to_csv('kakao_webtoon_scoring.csv', index=False)"
   ]
  },
  {
   "cell_type": "code",
   "execution_count": null,
   "metadata": {},
   "outputs": [],
   "source": [
    "pd.read_csv('kakao_webtoon_scoring.csv')"
   ]
  }
 ],
 "metadata": {
  "kernelspec": {
   "display_name": "Python 3.8.8 ('base')",
   "language": "python",
   "name": "python3"
  },
  "language_info": {
   "codemirror_mode": {
    "name": "ipython",
    "version": 3
   },
   "file_extension": ".py",
   "mimetype": "text/x-python",
   "name": "python",
   "nbconvert_exporter": "python",
   "pygments_lexer": "ipython3",
   "version": "3.8.8"
  },
  "toc": {
   "base_numbering": 1,
   "nav_menu": {},
   "number_sections": true,
   "sideBar": true,
   "skip_h1_title": false,
   "title_cell": "Table of Contents",
   "title_sidebar": "Contents",
   "toc_cell": false,
   "toc_position": {},
   "toc_section_display": true,
   "toc_window_display": false
  },
  "vscode": {
   "interpreter": {
    "hash": "ad2bdc8ecc057115af97d19610ffacc2b4e99fae6737bb82f5d7fb13d2f2c186"
   }
  }
 },
 "nbformat": 4,
 "nbformat_minor": 2
}
